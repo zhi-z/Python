{
 "cells": [
  {
   "cell_type": "markdown",
   "metadata": {},
   "source": [
    "# 2014世界杯决赛分析"
   ]
  },
  {
   "cell_type": "markdown",
   "metadata": {},
   "source": [
    "之前扒下来的世界杯数据该发挥自己的作用了。咱们拿来做一个数据分析，为了让分析更具体一些，我们分析精彩的决赛局。"
   ]
  },
  {
   "cell_type": "markdown",
   "metadata": {},
   "source": [
    "### 预处理"
   ]
  },
  {
   "cell_type": "markdown",
   "metadata": {},
   "source": [
    "准备好相应的数据，同时也引入需要的包。"
   ]
  },
  {
   "cell_type": "code",
   "execution_count": 1,
   "metadata": {},
   "outputs": [
    {
     "name": "stderr",
     "output_type": "stream",
     "text": [
      "/Library/Python/2.7/site-packages/IPython/core/interactiveshell.py:2885: FutureWarning: \n",
      "mpl_style had been deprecated and will be removed in a future version.\n",
      "Use `matplotlib.pyplot.style.use` instead.\n",
      "\n",
      "  exec(code_obj, self.user_global_ns, self.user_ns)\n"
     ]
    }
   ],
   "source": [
    "import pandas as pd\n",
    "import numpy as np\n",
    "import matplotlib.pyplot as plt\n",
    "\n",
    "from footyscripts.footyviz import draw_events, draw_pitch, type_names\n",
    "\n",
    "#plotting settings\n",
    "%matplotlib inline\n",
    "pd.options.display.mpl_style = 'default'"
   ]
  },
  {
   "cell_type": "code",
   "execution_count": 2,
   "metadata": {
    "collapsed": true
   },
   "outputs": [],
   "source": [
    "df = pd.read_csv(\"../datasets/germany-vs-argentina-731830.csv\", encoding='utf-8', index_col=0)"
   ]
  },
  {
   "cell_type": "code",
   "execution_count": 3,
   "metadata": {},
   "outputs": [
    {
     "data": {
      "text/html": [
       "<div>\n",
       "<table border=\"1\" class=\"dataframe\">\n",
       "  <thead>\n",
       "    <tr style=\"text-align: right;\">\n",
       "      <th></th>\n",
       "      <th>event_id</th>\n",
       "      <th>player_id</th>\n",
       "      <th>outcome</th>\n",
       "      <th>min</th>\n",
       "      <th>sec</th>\n",
       "      <th>displaymin</th>\n",
       "      <th>side</th>\n",
       "      <th>x</th>\n",
       "      <th>y</th>\n",
       "      <th>to</th>\n",
       "      <th>to_x</th>\n",
       "      <th>to_y</th>\n",
       "      <th>to_z</th>\n",
       "      <th>field_pass</th>\n",
       "      <th>type</th>\n",
       "      <th>period</th>\n",
       "      <th>team</th>\n",
       "      <th>qualifiers/31</th>\n",
       "    </tr>\n",
       "    <tr>\n",
       "      <th>id</th>\n",
       "      <th></th>\n",
       "      <th></th>\n",
       "      <th></th>\n",
       "      <th></th>\n",
       "      <th></th>\n",
       "      <th></th>\n",
       "      <th></th>\n",
       "      <th></th>\n",
       "      <th></th>\n",
       "      <th></th>\n",
       "      <th></th>\n",
       "      <th></th>\n",
       "      <th></th>\n",
       "      <th></th>\n",
       "      <th></th>\n",
       "      <th></th>\n",
       "      <th></th>\n",
       "      <th></th>\n",
       "    </tr>\n",
       "  </thead>\n",
       "  <tbody>\n",
       "    <tr>\n",
       "      <th>NaN</th>\n",
       "      <td>NaN</td>\n",
       "      <td>15207</td>\n",
       "      <td>1</td>\n",
       "      <td>0</td>\n",
       "      <td>0</td>\n",
       "      <td>1</td>\n",
       "      <td>H</td>\n",
       "      <td>0.0</td>\n",
       "      <td>0.0</td>\n",
       "      <td>41316.0</td>\n",
       "      <td>NaN</td>\n",
       "      <td>NaN</td>\n",
       "      <td>NaN</td>\n",
       "      <td>f</td>\n",
       "      <td>102</td>\n",
       "      <td>1</td>\n",
       "      <td>357</td>\n",
       "      <td>NaN</td>\n",
       "    </tr>\n",
       "    <tr>\n",
       "      <th>NaN</th>\n",
       "      <td>NaN</td>\n",
       "      <td>41316</td>\n",
       "      <td>1</td>\n",
       "      <td>0</td>\n",
       "      <td>0</td>\n",
       "      <td>1</td>\n",
       "      <td>H</td>\n",
       "      <td>0.0</td>\n",
       "      <td>0.0</td>\n",
       "      <td>15208.0</td>\n",
       "      <td>NaN</td>\n",
       "      <td>NaN</td>\n",
       "      <td>NaN</td>\n",
       "      <td>f</td>\n",
       "      <td>102</td>\n",
       "      <td>1</td>\n",
       "      <td>357</td>\n",
       "      <td>NaN</td>\n",
       "    </tr>\n",
       "    <tr>\n",
       "      <th>NaN</th>\n",
       "      <td>NaN</td>\n",
       "      <td>15208</td>\n",
       "      <td>1</td>\n",
       "      <td>0</td>\n",
       "      <td>0</td>\n",
       "      <td>1</td>\n",
       "      <td>H</td>\n",
       "      <td>0.0</td>\n",
       "      <td>0.0</td>\n",
       "      <td>40691.0</td>\n",
       "      <td>NaN</td>\n",
       "      <td>NaN</td>\n",
       "      <td>NaN</td>\n",
       "      <td>f</td>\n",
       "      <td>102</td>\n",
       "      <td>1</td>\n",
       "      <td>357</td>\n",
       "      <td>NaN</td>\n",
       "    </tr>\n",
       "    <tr>\n",
       "      <th>NaN</th>\n",
       "      <td>NaN</td>\n",
       "      <td>40691</td>\n",
       "      <td>1</td>\n",
       "      <td>0</td>\n",
       "      <td>0</td>\n",
       "      <td>1</td>\n",
       "      <td>H</td>\n",
       "      <td>0.0</td>\n",
       "      <td>0.0</td>\n",
       "      <td>38392.0</td>\n",
       "      <td>NaN</td>\n",
       "      <td>NaN</td>\n",
       "      <td>NaN</td>\n",
       "      <td>f</td>\n",
       "      <td>102</td>\n",
       "      <td>1</td>\n",
       "      <td>357</td>\n",
       "      <td>NaN</td>\n",
       "    </tr>\n",
       "    <tr>\n",
       "      <th>NaN</th>\n",
       "      <td>NaN</td>\n",
       "      <td>38392</td>\n",
       "      <td>1</td>\n",
       "      <td>0</td>\n",
       "      <td>0</td>\n",
       "      <td>1</td>\n",
       "      <td>H</td>\n",
       "      <td>0.0</td>\n",
       "      <td>0.0</td>\n",
       "      <td>100927.0</td>\n",
       "      <td>NaN</td>\n",
       "      <td>NaN</td>\n",
       "      <td>NaN</td>\n",
       "      <td>f</td>\n",
       "      <td>102</td>\n",
       "      <td>1</td>\n",
       "      <td>357</td>\n",
       "      <td>NaN</td>\n",
       "    </tr>\n",
       "  </tbody>\n",
       "</table>\n",
       "</div>"
      ],
      "text/plain": [
       "     event_id  player_id  outcome  min  sec  displaymin side    x    y  \\\n",
       "id                                                                       \n",
       "NaN       NaN      15207        1    0    0           1    H  0.0  0.0   \n",
       "NaN       NaN      41316        1    0    0           1    H  0.0  0.0   \n",
       "NaN       NaN      15208        1    0    0           1    H  0.0  0.0   \n",
       "NaN       NaN      40691        1    0    0           1    H  0.0  0.0   \n",
       "NaN       NaN      38392        1    0    0           1    H  0.0  0.0   \n",
       "\n",
       "           to  to_x  to_y  to_z field_pass  type  period  team  qualifiers/31  \n",
       "id                                                                             \n",
       "NaN   41316.0   NaN   NaN   NaN          f   102       1   357            NaN  \n",
       "NaN   15208.0   NaN   NaN   NaN          f   102       1   357            NaN  \n",
       "NaN   40691.0   NaN   NaN   NaN          f   102       1   357            NaN  \n",
       "NaN   38392.0   NaN   NaN   NaN          f   102       1   357            NaN  \n",
       "NaN  100927.0   NaN   NaN   NaN          f   102       1   357            NaN  "
      ]
     },
     "execution_count": 3,
     "metadata": {},
     "output_type": "execute_result"
    }
   ],
   "source": [
    "df.head()"
   ]
  },
  {
   "cell_type": "code",
   "execution_count": 4,
   "metadata": {
    "collapsed": true
   },
   "outputs": [],
   "source": [
    "df.index = range(1,len(df) + 1)"
   ]
  },
  {
   "cell_type": "code",
   "execution_count": 5,
   "metadata": {},
   "outputs": [
    {
     "data": {
      "text/html": [
       "<div>\n",
       "<table border=\"1\" class=\"dataframe\">\n",
       "  <thead>\n",
       "    <tr style=\"text-align: right;\">\n",
       "      <th></th>\n",
       "      <th>event_id</th>\n",
       "      <th>player_id</th>\n",
       "      <th>outcome</th>\n",
       "      <th>min</th>\n",
       "      <th>sec</th>\n",
       "      <th>displaymin</th>\n",
       "      <th>side</th>\n",
       "      <th>x</th>\n",
       "      <th>y</th>\n",
       "      <th>to</th>\n",
       "      <th>to_x</th>\n",
       "      <th>to_y</th>\n",
       "      <th>to_z</th>\n",
       "      <th>field_pass</th>\n",
       "      <th>type</th>\n",
       "      <th>period</th>\n",
       "      <th>team</th>\n",
       "      <th>qualifiers/31</th>\n",
       "    </tr>\n",
       "  </thead>\n",
       "  <tbody>\n",
       "    <tr>\n",
       "      <th>1</th>\n",
       "      <td>NaN</td>\n",
       "      <td>15207</td>\n",
       "      <td>1</td>\n",
       "      <td>0</td>\n",
       "      <td>0</td>\n",
       "      <td>1</td>\n",
       "      <td>H</td>\n",
       "      <td>0.0</td>\n",
       "      <td>0.0</td>\n",
       "      <td>41316.0</td>\n",
       "      <td>NaN</td>\n",
       "      <td>NaN</td>\n",
       "      <td>NaN</td>\n",
       "      <td>f</td>\n",
       "      <td>102</td>\n",
       "      <td>1</td>\n",
       "      <td>357</td>\n",
       "      <td>NaN</td>\n",
       "    </tr>\n",
       "    <tr>\n",
       "      <th>2</th>\n",
       "      <td>NaN</td>\n",
       "      <td>41316</td>\n",
       "      <td>1</td>\n",
       "      <td>0</td>\n",
       "      <td>0</td>\n",
       "      <td>1</td>\n",
       "      <td>H</td>\n",
       "      <td>0.0</td>\n",
       "      <td>0.0</td>\n",
       "      <td>15208.0</td>\n",
       "      <td>NaN</td>\n",
       "      <td>NaN</td>\n",
       "      <td>NaN</td>\n",
       "      <td>f</td>\n",
       "      <td>102</td>\n",
       "      <td>1</td>\n",
       "      <td>357</td>\n",
       "      <td>NaN</td>\n",
       "    </tr>\n",
       "    <tr>\n",
       "      <th>3</th>\n",
       "      <td>NaN</td>\n",
       "      <td>15208</td>\n",
       "      <td>1</td>\n",
       "      <td>0</td>\n",
       "      <td>0</td>\n",
       "      <td>1</td>\n",
       "      <td>H</td>\n",
       "      <td>0.0</td>\n",
       "      <td>0.0</td>\n",
       "      <td>40691.0</td>\n",
       "      <td>NaN</td>\n",
       "      <td>NaN</td>\n",
       "      <td>NaN</td>\n",
       "      <td>f</td>\n",
       "      <td>102</td>\n",
       "      <td>1</td>\n",
       "      <td>357</td>\n",
       "      <td>NaN</td>\n",
       "    </tr>\n",
       "    <tr>\n",
       "      <th>4</th>\n",
       "      <td>NaN</td>\n",
       "      <td>40691</td>\n",
       "      <td>1</td>\n",
       "      <td>0</td>\n",
       "      <td>0</td>\n",
       "      <td>1</td>\n",
       "      <td>H</td>\n",
       "      <td>0.0</td>\n",
       "      <td>0.0</td>\n",
       "      <td>38392.0</td>\n",
       "      <td>NaN</td>\n",
       "      <td>NaN</td>\n",
       "      <td>NaN</td>\n",
       "      <td>f</td>\n",
       "      <td>102</td>\n",
       "      <td>1</td>\n",
       "      <td>357</td>\n",
       "      <td>NaN</td>\n",
       "    </tr>\n",
       "    <tr>\n",
       "      <th>5</th>\n",
       "      <td>NaN</td>\n",
       "      <td>38392</td>\n",
       "      <td>1</td>\n",
       "      <td>0</td>\n",
       "      <td>0</td>\n",
       "      <td>1</td>\n",
       "      <td>H</td>\n",
       "      <td>0.0</td>\n",
       "      <td>0.0</td>\n",
       "      <td>100927.0</td>\n",
       "      <td>NaN</td>\n",
       "      <td>NaN</td>\n",
       "      <td>NaN</td>\n",
       "      <td>f</td>\n",
       "      <td>102</td>\n",
       "      <td>1</td>\n",
       "      <td>357</td>\n",
       "      <td>NaN</td>\n",
       "    </tr>\n",
       "  </tbody>\n",
       "</table>\n",
       "</div>"
      ],
      "text/plain": [
       "   event_id  player_id  outcome  min  sec  displaymin side    x    y  \\\n",
       "1       NaN      15207        1    0    0           1    H  0.0  0.0   \n",
       "2       NaN      41316        1    0    0           1    H  0.0  0.0   \n",
       "3       NaN      15208        1    0    0           1    H  0.0  0.0   \n",
       "4       NaN      40691        1    0    0           1    H  0.0  0.0   \n",
       "5       NaN      38392        1    0    0           1    H  0.0  0.0   \n",
       "\n",
       "         to  to_x  to_y  to_z field_pass  type  period  team  qualifiers/31  \n",
       "1   41316.0   NaN   NaN   NaN          f   102       1   357            NaN  \n",
       "2   15208.0   NaN   NaN   NaN          f   102       1   357            NaN  \n",
       "3   40691.0   NaN   NaN   NaN          f   102       1   357            NaN  \n",
       "4   38392.0   NaN   NaN   NaN          f   102       1   357            NaN  \n",
       "5  100927.0   NaN   NaN   NaN          f   102       1   357            NaN  "
      ]
     },
     "execution_count": 5,
     "metadata": {},
     "output_type": "execute_result"
    }
   ],
   "source": [
    "df.head()"
   ]
  },
  {
   "cell_type": "code",
   "execution_count": 4,
   "metadata": {
    "collapsed": true
   },
   "outputs": [],
   "source": [
    "#standard dimensions\n",
    "x_size = 105.0\n",
    "y_size = 68.0\n",
    "box_height = 16.5*2 + 7.32\n",
    "box_width = 16.5\n",
    "y_box_start = y_size/2-box_height/2\n",
    "y_box_end = y_size/2+box_height/2\n",
    "\n",
    "#scale of dataset is 100 by 100. Normalizing for a standard soccer pitch size\n",
    "df['x']=df['x']/100*x_size \n",
    "df['y']=df['y']/100*y_size\n",
    "df['to_x']=df['to_x']/100*x_size\n",
    "df['to_y']=df['to_y']/100*y_size\n",
    "\n",
    "#creating some measures and classifiers from the original \n",
    "df['count'] = 1\n",
    "df['dx'] = df['to_x'] - df['x']\n",
    "df['dy'] = df['to_y'] - df['y']\n",
    "df['distance'] = np.sqrt(df['dx']**2+df['dy']**2)\n",
    "df['fivemin'] = np.floor(df['min']/5)*5\n",
    "df['type_name'] = df['type'].map(type_names.get)\n",
    "df['to_box'] = (df['to_x'] > x_size - box_width) & (y_box_start < df['to_y']) & (df['to_y'] < y_box_end)\n",
    "df['from_box'] = (df['x'] > x_size - box_width) & (y_box_start < df['y']) & (df['y'] < y_box_end)\n",
    "df['on_offense'] = df['x']>x_size/2"
   ]
  },
  {
   "cell_type": "markdown",
   "metadata": {},
   "source": [
    "添加队名和球员的名字，翻遍后面进行统计和评估"
   ]
  },
  {
   "cell_type": "code",
   "execution_count": 5,
   "metadata": {
    "collapsed": true
   },
   "outputs": [],
   "source": [
    "df['team_name'] = np.where(df['team']==357, 'Germany', 'Argentina')"
   ]
  },
  {
   "cell_type": "code",
   "execution_count": 6,
   "metadata": {
    "collapsed": true
   },
   "outputs": [],
   "source": [
    "player_dic = {15207:\"Philipp Lahm\",44989:\"Toni Kroos\",15208:\"Bastian Schweinsteiger\",40691:\"Jerome Boateng\",37605:\"Mesut Özil\",32644:\"Javier Mascherano\",66842:\"André Schürrle\",41316:\"Benedikt Höwedes\",38392:\"Mats Hummels\",55634:\"Thomas Müller\",39462:\"Lucas Biglia\",28525:\"Ezequiel Garay\",15312:\"Martín Demichelis\",20658:\"Pablo Zabaleta\",19054:\"Lionel Messi\",58893:\"Marcos Rojo\",20388:\"Manuel Neuer\",55661:\"Enzo Pérez\",42899:\"Sergio Agüero\",37572:\"Sergio Romero\",5155:\"Miroslav Klose\",69600:\"Fernando Gago\",19975:\"Mario Götze\",40232:\"Gonzalo Higuaín\",45154:\"Ezequiel Lavezzi\",20153:\"Rodrigo Palacio\",100927:\"Christoph Kramer\",17127:\"Per Mertesacker\"}\n",
    "\n",
    "def get_player_name(player_id):\n",
    "    return player_dic[player_id]\n",
    "\n",
    "df['player_name'] = df['player_id'].apply(get_player_name)"
   ]
  },
  {
   "cell_type": "code",
   "execution_count": 7,
   "metadata": {
    "collapsed": true
   },
   "outputs": [],
   "source": [
    "#preslicing of the main DataFrame in smaller DFs that will be reused along the notebook\n",
    "dfPeriod1 = df[df['period']==1]\n",
    "dfP1Shots = dfPeriod1[dfPeriod1['type'].isin([13, 14, 15, 16])]\n",
    "dfPeriod2 = df[df['period']==2]\n",
    "dfP2Shots = dfPeriod2[dfPeriod2['type'].isin([13, 14, 15, 16])]\n",
    "dfExtraTime = df[df['period']>2]\n",
    "dfETShots = dfExtraTime[dfExtraTime['type'].isin([13, 14, 15, 16])]"
   ]
  },
  {
   "cell_type": "markdown",
   "metadata": {},
   "source": [
    "## 上半场"
   ]
  },
  {
   "cell_type": "markdown",
   "metadata": {},
   "source": [
    "咱们快速过一下上半场，下面我们来做一个图标，看看进攻和防守的状况（大于0的上半部分表示德国队的进攻，小于0的部分表示德国队的防守），图中还标出了射球的点。"
   ]
  },
  {
   "cell_type": "code",
   "execution_count": 8,
   "metadata": {},
   "outputs": [
    {
     "data": {
      "text/plain": [
       "<matplotlib.text.Text at 0x10f166c10>"
      ]
     },
     "execution_count": 8,
     "metadata": {},
     "output_type": "execute_result"
    },
    {
     "data": {
      "image/png": "[encoded data removed]",
      "text/plain": [
       "<matplotlib.figure.Figure at 0x10f07fb90>"
      ]
     },
     "metadata": {},
     "output_type": "display_data"
    }
   ],
   "source": [
    "fig = plt.figure(figsize=(12,4))\n",
    "\n",
    "avg_x = (dfPeriod1[dfPeriod1['team_name']=='Germany'].groupby('min').apply(np.mean)['x'] - \n",
    "         dfPeriod1[dfPeriod1['team_name']=='Argentina'].groupby('min').apply(np.mean)['x'])\n",
    "\n",
    "plt.stackplot(list(avg_x.index.values), list([x if x>0 else 0 for x in avg_x]))\n",
    "plt.stackplot(list(avg_x.index.values), list([x if x<0 else 0 for x in avg_x]))\n",
    "\n",
    "for i, shot in dfP1Shots.iterrows():\n",
    "    x = shot['min']\n",
    "    y = avg_x.ix[shot['min']]\n",
    "    signal = 1 if shot['team_name']=='Germany' else -1\n",
    "    plt.annotate(s=(shot['type_name']+' ('+shot['team_name'][0]+\")\"), xy=(x, y), xytext=(x-5,y+30*signal), arrowprops=dict(facecolor='black'))\n",
    "\n",
    "plt.gca().set_xlabel('minute')\n",
    "plt.title(\"First Half Profile\")"
   ]
  },
  {
   "cell_type": "markdown",
   "metadata": {},
   "source": [
    "上半场很有意思的地方在于，德国队基本主导着比赛，使得阿根廷大多数时候都在自己的半场内传球。对于这个的一个可视化，可能更能说明问题，我们一起来看看，阿根廷上半场的传球路径。"
   ]
  },
  {
   "cell_type": "code",
   "execution_count": 9,
   "metadata": {},
   "outputs": [
    {
     "data": {
      "text/plain": [
       "<matplotlib.text.Text at 0x10f592d90>"
      ]
     },
     "execution_count": 9,
     "metadata": {},
     "output_type": "execute_result"
    },
    {
     "data": {
      "image/png": "[encoded data removed]",
      "text/plain": [
       "<matplotlib.figure.Figure at 0x10f022510>"
      ]
     },
     "metadata": {},
     "output_type": "display_data"
    }
   ],
   "source": [
    "draw_pitch()\n",
    "draw_events(dfPeriod1[(dfPeriod1['type']==1) & (dfPeriod1['outcome']==1) & (dfPeriod1['team_name']=='Argentina')], mirror_away=True)\n",
    "plt.text(x_size/4, -3, \"Germany's defense\", color='black', bbox=dict(facecolor='white', alpha=0.5), horizontalalignment='center')\n",
    "plt.text(x_size*3/4, -3, \"Argentina's defense\", color='black', bbox=dict(facecolor='white', alpha=0.5), horizontalalignment='center')\n",
    "plt.title(\"Argentina's passes during the first half\")"
   ]
  },
  {
   "cell_type": "code",
   "execution_count": 10,
   "metadata": {},
   "outputs": [
    {
     "data": {
      "text/html": [
       "<div>\n",
       "<table border=\"1\" class=\"dataframe\">\n",
       "  <thead>\n",
       "    <tr style=\"text-align: right;\">\n",
       "      <th></th>\n",
       "      <th>x</th>\n",
       "      <th>on_offense</th>\n",
       "    </tr>\n",
       "    <tr>\n",
       "      <th>team_name</th>\n",
       "      <th></th>\n",
       "      <th></th>\n",
       "    </tr>\n",
       "  </thead>\n",
       "  <tbody>\n",
       "    <tr>\n",
       "      <th>Argentina</th>\n",
       "      <td>38.320645</td>\n",
       "      <td>0.276498</td>\n",
       "    </tr>\n",
       "    <tr>\n",
       "      <th>Germany</th>\n",
       "      <td>55.838736</td>\n",
       "      <td>0.610984</td>\n",
       "    </tr>\n",
       "  </tbody>\n",
       "</table>\n",
       "</div>"
      ],
      "text/plain": [
       "                   x  on_offense\n",
       "team_name                       \n",
       "Argentina  38.320645    0.276498\n",
       "Germany    55.838736    0.610984"
      ]
     },
     "execution_count": 10,
     "metadata": {},
     "output_type": "execute_result"
    }
   ],
   "source": [
    "dfPeriod1.groupby('team_name').agg({'x': np.mean, 'on_offense': np.mean})"
   ]
  },
  {
   "cell_type": "code",
   "execution_count": 11,
   "metadata": {},
   "outputs": [
    {
     "data": {
      "text/html": [
       "<div>\n",
       "<table border=\"1\" class=\"dataframe\">\n",
       "  <thead>\n",
       "    <tr style=\"text-align: right;\">\n",
       "      <th></th>\n",
       "      <th>outcome</th>\n",
       "    </tr>\n",
       "    <tr>\n",
       "      <th>team_name</th>\n",
       "      <th></th>\n",
       "    </tr>\n",
       "  </thead>\n",
       "  <tbody>\n",
       "    <tr>\n",
       "      <th>Argentina</th>\n",
       "      <td>0.694805</td>\n",
       "    </tr>\n",
       "    <tr>\n",
       "      <th>Germany</th>\n",
       "      <td>0.835777</td>\n",
       "    </tr>\n",
       "  </tbody>\n",
       "</table>\n",
       "</div>"
      ],
      "text/plain": [
       "            outcome\n",
       "team_name          \n",
       "Argentina  0.694805\n",
       "Germany    0.835777"
      ]
     },
     "execution_count": 11,
     "metadata": {},
     "output_type": "execute_result"
    }
   ],
   "source": [
    "dfPeriod1[dfPeriod1.type==1].groupby('team_name').agg({'outcome': np.mean})"
   ]
  },
  {
   "cell_type": "markdown",
   "metadata": {},
   "source": [
    "上面还做了一个数据的分析，阿根廷大概只有28%的传球是在进攻阶段，而德国有61%是进攻阶段。同时即使是进攻阶段，你会发现德国队也保持着更高的传球准确率。\n",
    "\n",
    "不过从进入禁区和射门的角度上看，德国队也并没有这么轻松，事实上，从下面我们做出的图里你可以看到，德国队在多次尝试进入禁区射门里，有效的很少。"
   ]
  },
  {
   "cell_type": "code",
   "execution_count": 12,
   "metadata": {},
   "outputs": [
    {
     "data": {
      "text/plain": [
       "<matplotlib.text.Text at 0x10fe6ad90>"
      ]
     },
     "execution_count": 12,
     "metadata": {},
     "output_type": "execute_result"
    },
    {
     "data": {
      "image/png": "[encoded data removed]",
      "text/plain": [
       "<matplotlib.figure.Figure at 0x10f904b90>"
      ]
     },
     "metadata": {},
     "output_type": "display_data"
    }
   ],
   "source": [
    "draw_pitch()\n",
    "draw_events(df[(df['to_box']==True) & (df['type']==1) & (df['from_box']==False) & (df['period']==1) & (df['outcome']==1)], mirror_away=True)\n",
    "draw_events(df[(df['to_box']==True) & (df['type']==1) & (df['from_box']==False) & (df['period']==1) & (df['outcome']==0)], mirror_away=True, alpha=0.2)\n",
    "draw_events(dfP1Shots, mirror_away=True, base_color='#a93e3e')\n",
    "plt.text(x_size/4, -3, \"Germany's defense\", color='black', bbox=dict(facecolor='white', alpha=0.5), horizontalalignment='center')\n",
    "plt.text(x_size*3/4, -3, \"Argentina's defense\", color='black', bbox=dict(facecolor='white', alpha=0.5), horizontalalignment='center')"
   ]
  },
  {
   "cell_type": "code",
   "execution_count": 13,
   "metadata": {},
   "outputs": [
    {
     "data": {
      "text/html": [
       "<div>\n",
       "<table border=\"1\" class=\"dataframe\">\n",
       "  <thead>\n",
       "    <tr style=\"text-align: right;\">\n",
       "      <th></th>\n",
       "      <th>count</th>\n",
       "      <th>outcome</th>\n",
       "    </tr>\n",
       "    <tr>\n",
       "      <th>team_name</th>\n",
       "      <th></th>\n",
       "      <th></th>\n",
       "    </tr>\n",
       "  </thead>\n",
       "  <tbody>\n",
       "    <tr>\n",
       "      <th>Argentina</th>\n",
       "      <td>6</td>\n",
       "      <td>0.166667</td>\n",
       "    </tr>\n",
       "    <tr>\n",
       "      <th>Germany</th>\n",
       "      <td>16</td>\n",
       "      <td>0.187500</td>\n",
       "    </tr>\n",
       "  </tbody>\n",
       "</table>\n",
       "</div>"
      ],
      "text/plain": [
       "           count   outcome\n",
       "team_name                 \n",
       "Argentina      6  0.166667\n",
       "Germany       16  0.187500"
      ]
     },
     "execution_count": 13,
     "metadata": {},
     "output_type": "execute_result"
    }
   ],
   "source": [
    "dfPeriod1[(dfPeriod1['to_box']==True) & (dfPeriod1['from_box']==False) & (dfPeriod1['type']==1)].groupby(['team_name']).agg({'outcome': np.mean,\\\n",
    "                                                                                                                             'count': np.sum})"
   ]
  },
  {
   "cell_type": "markdown",
   "metadata": {},
   "source": [
    "## 关于克拉默的分析"
   ]
  },
  {
   "cell_type": "markdown",
   "metadata": {},
   "source": [
    "大概19分钟的时候，克拉默受伤了，但是12分钟之后才真正换上替补球员。然后你会发现这段时间简直就是德国上半场的地狱期，在我们之前的图表里也可以看出来。\n",
    "\n",
    "[Reports say that he acted confused](http://www.theguardian.com/football/2014/jul/17/christoph-kramer-germany-concussion-world-cup-final-2014)，相关数据表明在克拉默受伤以后直到替补上场，他基本是“无功能”状态：唯一做的可能就是有一个接应，同时穿了一次球，还失掉了一次球。"
   ]
  },
  {
   "cell_type": "code",
   "execution_count": 14,
   "metadata": {},
   "outputs": [
    {
     "data": {
      "text/html": [
       "<div>\n",
       "<table border=\"1\" class=\"dataframe\">\n",
       "  <thead>\n",
       "    <tr style=\"text-align: right;\">\n",
       "      <th>min</th>\n",
       "      <th>0</th>\n",
       "      <th>1</th>\n",
       "      <th>4</th>\n",
       "      <th>6</th>\n",
       "      <th>7</th>\n",
       "      <th>8</th>\n",
       "      <th>11</th>\n",
       "      <th>19</th>\n",
       "      <th>24</th>\n",
       "      <th>25</th>\n",
       "      <th>31</th>\n",
       "    </tr>\n",
       "    <tr>\n",
       "      <th>type_name</th>\n",
       "      <th></th>\n",
       "      <th></th>\n",
       "      <th></th>\n",
       "      <th></th>\n",
       "      <th></th>\n",
       "      <th></th>\n",
       "      <th></th>\n",
       "      <th></th>\n",
       "      <th></th>\n",
       "      <th></th>\n",
       "      <th></th>\n",
       "    </tr>\n",
       "  </thead>\n",
       "  <tbody>\n",
       "    <tr>\n",
       "      <th>CLEAR BALL (OUT OF PITCH)</th>\n",
       "      <td>0</td>\n",
       "      <td>0</td>\n",
       "      <td>0</td>\n",
       "      <td>0</td>\n",
       "      <td>0</td>\n",
       "      <td>0</td>\n",
       "      <td>0</td>\n",
       "      <td>1</td>\n",
       "      <td>0</td>\n",
       "      <td>0</td>\n",
       "      <td>0</td>\n",
       "    </tr>\n",
       "    <tr>\n",
       "      <th>LINEUP</th>\n",
       "      <td>1</td>\n",
       "      <td>0</td>\n",
       "      <td>0</td>\n",
       "      <td>0</td>\n",
       "      <td>0</td>\n",
       "      <td>0</td>\n",
       "      <td>0</td>\n",
       "      <td>0</td>\n",
       "      <td>0</td>\n",
       "      <td>0</td>\n",
       "      <td>0</td>\n",
       "    </tr>\n",
       "    <tr>\n",
       "      <th>LOST CONTROL OF BALL</th>\n",
       "      <td>0</td>\n",
       "      <td>0</td>\n",
       "      <td>0</td>\n",
       "      <td>0</td>\n",
       "      <td>0</td>\n",
       "      <td>0</td>\n",
       "      <td>0</td>\n",
       "      <td>0</td>\n",
       "      <td>0</td>\n",
       "      <td>1</td>\n",
       "      <td>0</td>\n",
       "    </tr>\n",
       "    <tr>\n",
       "      <th>PASS</th>\n",
       "      <td>0</td>\n",
       "      <td>1</td>\n",
       "      <td>2</td>\n",
       "      <td>1</td>\n",
       "      <td>2</td>\n",
       "      <td>1</td>\n",
       "      <td>2</td>\n",
       "      <td>0</td>\n",
       "      <td>1</td>\n",
       "      <td>0</td>\n",
       "      <td>0</td>\n",
       "    </tr>\n",
       "    <tr>\n",
       "      <th>RECEPTION</th>\n",
       "      <td>0</td>\n",
       "      <td>1</td>\n",
       "      <td>2</td>\n",
       "      <td>1</td>\n",
       "      <td>2</td>\n",
       "      <td>1</td>\n",
       "      <td>1</td>\n",
       "      <td>0</td>\n",
       "      <td>1</td>\n",
       "      <td>0</td>\n",
       "      <td>0</td>\n",
       "    </tr>\n",
       "    <tr>\n",
       "      <th>RUN WITH BALL</th>\n",
       "      <td>0</td>\n",
       "      <td>1</td>\n",
       "      <td>0</td>\n",
       "      <td>0</td>\n",
       "      <td>0</td>\n",
       "      <td>1</td>\n",
       "      <td>1</td>\n",
       "      <td>0</td>\n",
       "      <td>0</td>\n",
       "      <td>0</td>\n",
       "      <td>0</td>\n",
       "    </tr>\n",
       "    <tr>\n",
       "      <th>SUBSTITUTION (OFF)</th>\n",
       "      <td>0</td>\n",
       "      <td>0</td>\n",
       "      <td>0</td>\n",
       "      <td>0</td>\n",
       "      <td>0</td>\n",
       "      <td>0</td>\n",
       "      <td>0</td>\n",
       "      <td>0</td>\n",
       "      <td>0</td>\n",
       "      <td>0</td>\n",
       "      <td>1</td>\n",
       "    </tr>\n",
       "    <tr>\n",
       "      <th>TACKLE</th>\n",
       "      <td>0</td>\n",
       "      <td>0</td>\n",
       "      <td>0</td>\n",
       "      <td>0</td>\n",
       "      <td>0</td>\n",
       "      <td>0</td>\n",
       "      <td>1</td>\n",
       "      <td>0</td>\n",
       "      <td>0</td>\n",
       "      <td>0</td>\n",
       "      <td>0</td>\n",
       "    </tr>\n",
       "  </tbody>\n",
       "</table>\n",
       "</div>"
      ],
      "text/plain": [
       "min                        0   1   4   6   7   8   11  19  24  25  31\n",
       "type_name                                                            \n",
       "CLEAR BALL (OUT OF PITCH)   0   0   0   0   0   0   0   1   0   0   0\n",
       "LINEUP                      1   0   0   0   0   0   0   0   0   0   0\n",
       "LOST CONTROL OF BALL        0   0   0   0   0   0   0   0   0   1   0\n",
       "PASS                        0   1   2   1   2   1   2   0   1   0   0\n",
       "RECEPTION                   0   1   2   1   2   1   1   0   1   0   0\n",
       "RUN WITH BALL               0   1   0   0   0   1   1   0   0   0   0\n",
       "SUBSTITUTION (OFF)          0   0   0   0   0   0   0   0   0   0   1\n",
       "TACKLE                      0   0   0   0   0   0   1   0   0   0   0"
      ]
     },
     "execution_count": 14,
     "metadata": {},
     "output_type": "execute_result"
    }
   ],
   "source": [
    "dfKramer = df.loc[df['player_name']=='Christoph Kramer',:]\n",
    "pd.pivot_table(dfKramer, values='count', index='type_name', columns='min', aggfunc=sum, fill_value=0)"
   ]
  },
  {
   "cell_type": "code",
   "execution_count": 15,
   "metadata": {},
   "outputs": [
    {
     "name": "stderr",
     "output_type": "stream",
     "text": [
      "/Library/Python/2.7/site-packages/ipykernel/__main__.py:1: SettingWithCopyWarning: \n",
      "A value is trying to be set on a copy of a slice from a DataFrame.\n",
      "Try using .loc[row_indexer,col_indexer] = value instead\n",
      "\n",
      "See the caveats in the documentation: http://pandas.pydata.org/pandas-docs/stable/indexing.html#indexing-view-versus-copy\n",
      "  if __name__ == '__main__':\n"
     ]
    },
    {
     "data": {
      "text/plain": [
       "array(['1-LINEUP', '1-RUN WITH BALL', '1-RECEPTION', '1-PASS', '0-PASS',\n",
       "       '0-TACKLE', '1-CLEAR BALL (OUT OF PITCH)', '0-LOST CONTROL OF BALL',\n",
       "       '1-SUBSTITUTION (OFF)'], dtype=object)"
      ]
     },
     "execution_count": 15,
     "metadata": {},
     "output_type": "execute_result"
    }
   ],
   "source": [
    "dfKramer['action']=dfKramer['outcome'].map(str) + '-' + dfKramer['type_name']\n",
    "dfKramer['action'].unique()"
   ]
  },
  {
   "cell_type": "code",
   "execution_count": 16,
   "metadata": {},
   "outputs": [
    {
     "name": "stderr",
     "output_type": "stream",
     "text": [
      "/Library/Python/2.7/site-packages/ipykernel/__main__.py:5: SettingWithCopyWarning: \n",
      "A value is trying to be set on a copy of a slice from a DataFrame.\n",
      "Try using .loc[row_indexer,col_indexer] = value instead\n",
      "\n",
      "See the caveats in the documentation: http://pandas.pydata.org/pandas-docs/stable/indexing.html#indexing-view-versus-copy\n"
     ]
    }
   ],
   "source": [
    "score = {'1-LINEUP': 0, '1-RUN WITH BALL': 0.5, '1-RECEPTION': 0, '1-PASS': 1, '0-PASS': -1,\n",
    "       '0-TACKLE (NO CONTROL)': 0, '1-CLEAR BALL (OUT OF PITCH)': 0.5,\n",
    "       '0-LOST CONTROL OF BALL': -1, '1-SUBSTITUTION (OFF)': 0}\n",
    "\n",
    "dfKramer['score'] = dfKramer['action'].map(score.get)"
   ]
  },
  {
   "cell_type": "code",
   "execution_count": 17,
   "metadata": {},
   "outputs": [
    {
     "data": {
      "text/plain": [
       "<matplotlib.text.Text at 0x10f932650>"
      ]
     },
     "execution_count": 17,
     "metadata": {},
     "output_type": "execute_result"
    },
    {
     "data": {
      "image/png": "[encoded data removed]",
      "text/plain": [
       "<matplotlib.figure.Figure at 0x10f8d79d0>"
      ]
     },
     "metadata": {},
     "output_type": "display_data"
    }
   ],
   "source": [
    "dfKramer.groupby('min')['score'].sum().reindex(range(32), fill_value=0).plot(kind='bar')\n",
    "plt.annotate('Injury', (19,0.5), (14,1.1), arrowprops=dict(facecolor='black'))\n",
    "plt.annotate('Substitution', (31,0), (22,1.6), arrowprops=dict(facecolor='black'))\n",
    "plt.gca().set_xlabel('minute')\n",
    "plt.gca().set_ylabel('no. events')"
   ]
  },
  {
   "cell_type": "markdown",
   "metadata": {},
   "source": [
    "## 下半场"
   ]
  },
  {
   "cell_type": "markdown",
   "metadata": {},
   "source": [
    "相比之下，下半场就势均力敌多了，按照上半场的方式绘出图形，你会发现双方的控球确实是相当的。"
   ]
  },
  {
   "cell_type": "code",
   "execution_count": 18,
   "metadata": {},
   "outputs": [
    {
     "data": {
      "text/plain": [
       "<matplotlib.text.Text at 0x1101e0510>"
      ]
     },
     "execution_count": 18,
     "metadata": {},
     "output_type": "execute_result"
    },
    {
     "data": {
      "image/png": "[encoded data removed]",
      "text/plain": [
       "<matplotlib.figure.Figure at 0x1100c7710>"
      ]
     },
     "metadata": {},
     "output_type": "display_data"
    }
   ],
   "source": [
    "fig = plt.figure(figsize=(12,4))\n",
    "\n",
    "avg_x = (dfPeriod2[dfPeriod2['team_name']=='Germany'].groupby('min').apply(np.mean)['x'] - \n",
    "         dfPeriod2[dfPeriod2['team_name']=='Argentina'].groupby('min').apply(np.mean)['x'])\n",
    "\n",
    "plt.stackplot(list(avg_x.index.values), list([x if x>0 else 0 for x in avg_x]))\n",
    "plt.stackplot(list(avg_x.index.values), list([x if x<0 else 0 for x in avg_x]))\n",
    "\n",
    "for i, shot in dfP2Shots.iterrows():\n",
    "    x = shot['min']\n",
    "    y = avg_x.ix[shot['min']]\n",
    "    signal = 1 if shot['team_name']=='Germany' else -1\n",
    "    plt.annotate(s=(shot['type_name']+' ('+shot['team_name'][0]+\")\"), xy=(x, y), xytext=(x-5,y+30*signal), arrowprops=dict(facecolor='black'))\n",
    "\n",
    "plt.gca().set_xlabel('minute')\n",
    "plt.title(\"Second Half Profile\")"
   ]
  },
  {
   "cell_type": "code",
   "execution_count": 19,
   "metadata": {},
   "outputs": [
    {
     "data": {
      "text/html": [
       "<div>\n",
       "<table border=\"1\" class=\"dataframe\">\n",
       "  <thead>\n",
       "    <tr style=\"text-align: right;\">\n",
       "      <th></th>\n",
       "      <th>x</th>\n",
       "      <th>on_offense</th>\n",
       "    </tr>\n",
       "    <tr>\n",
       "      <th>team_name</th>\n",
       "      <th></th>\n",
       "      <th></th>\n",
       "    </tr>\n",
       "  </thead>\n",
       "  <tbody>\n",
       "    <tr>\n",
       "      <th>Argentina</th>\n",
       "      <td>48.916711</td>\n",
       "      <td>0.415625</td>\n",
       "    </tr>\n",
       "    <tr>\n",
       "      <th>Germany</th>\n",
       "      <td>54.551298</td>\n",
       "      <td>0.598582</td>\n",
       "    </tr>\n",
       "  </tbody>\n",
       "</table>\n",
       "</div>"
      ],
      "text/plain": [
       "                   x  on_offense\n",
       "team_name                       \n",
       "Argentina  48.916711    0.415625\n",
       "Germany    54.551298    0.598582"
      ]
     },
     "execution_count": 19,
     "metadata": {},
     "output_type": "execute_result"
    }
   ],
   "source": [
    "dfPeriod2.groupby('team_name').agg({'x': np.mean, 'on_offense': np.mean})"
   ]
  },
  {
   "cell_type": "code",
   "execution_count": 20,
   "metadata": {},
   "outputs": [
    {
     "data": {
      "text/html": [
       "<div>\n",
       "<table border=\"1\" class=\"dataframe\">\n",
       "  <thead>\n",
       "    <tr style=\"text-align: right;\">\n",
       "      <th></th>\n",
       "      <th>outcome</th>\n",
       "    </tr>\n",
       "    <tr>\n",
       "      <th>team_name</th>\n",
       "      <th></th>\n",
       "    </tr>\n",
       "  </thead>\n",
       "  <tbody>\n",
       "    <tr>\n",
       "      <th>Argentina</th>\n",
       "      <td>0.817427</td>\n",
       "    </tr>\n",
       "    <tr>\n",
       "      <th>Germany</th>\n",
       "      <td>0.839695</td>\n",
       "    </tr>\n",
       "  </tbody>\n",
       "</table>\n",
       "</div>"
      ],
      "text/plain": [
       "            outcome\n",
       "team_name          \n",
       "Argentina  0.817427\n",
       "Germany    0.839695"
      ]
     },
     "execution_count": 20,
     "metadata": {},
     "output_type": "execute_result"
    }
   ],
   "source": [
    "dfPeriod2[dfPeriod2['type']==1].groupby('team_name').agg({'outcome': np.mean})"
   ]
  },
  {
   "cell_type": "code",
   "execution_count": 21,
   "metadata": {},
   "outputs": [
    {
     "data": {
      "text/plain": [
       "<matplotlib.text.Text at 0x1104a9ed0>"
      ]
     },
     "execution_count": 21,
     "metadata": {},
     "output_type": "execute_result"
    },
    {
     "data": {
      "image/png": "[encoded data removed]",
      "text/plain": [
       "<matplotlib.figure.Figure at 0x1100c1550>"
      ]
     },
     "metadata": {},
     "output_type": "display_data"
    }
   ],
   "source": [
    "draw_pitch()\n",
    "draw_events(df[(df['to_box']==True) & (df['type']==1) & (df['from_box']==False) & (df['period']==2) & (df['outcome']==1)], mirror_away=True)\n",
    "draw_events(df[(df['to_box']==True) & (df['type']==1) & (df['from_box']==False) & (df['period']==2) & (df['outcome']==0)], mirror_away=True, alpha=0.2)\n",
    "draw_events(dfP2Shots, mirror_away=True, base_color='#a93e3e')\n",
    "plt.text(x_size/4, -3, \"Germany's defense\", color='black', bbox=dict(facecolor='white', alpha=0.5), horizontalalignment='center')\n",
    "plt.text(x_size*3/4, -3, \"Argentina's defense\", color='black', bbox=dict(facecolor='white', alpha=0.5), horizontalalignment='center')"
   ]
  },
  {
   "cell_type": "code",
   "execution_count": 22,
   "metadata": {},
   "outputs": [
    {
     "data": {
      "text/html": [
       "<div>\n",
       "<table border=\"1\" class=\"dataframe\">\n",
       "  <thead>\n",
       "    <tr style=\"text-align: right;\">\n",
       "      <th></th>\n",
       "      <th>count</th>\n",
       "      <th>outcome</th>\n",
       "    </tr>\n",
       "    <tr>\n",
       "      <th>team_name</th>\n",
       "      <th></th>\n",
       "      <th></th>\n",
       "    </tr>\n",
       "  </thead>\n",
       "  <tbody>\n",
       "    <tr>\n",
       "      <th>Argentina</th>\n",
       "      <td>12</td>\n",
       "      <td>0.166667</td>\n",
       "    </tr>\n",
       "    <tr>\n",
       "      <th>Germany</th>\n",
       "      <td>16</td>\n",
       "      <td>0.375000</td>\n",
       "    </tr>\n",
       "  </tbody>\n",
       "</table>\n",
       "</div>"
      ],
      "text/plain": [
       "           count   outcome\n",
       "team_name                 \n",
       "Argentina     12  0.166667\n",
       "Germany       16  0.375000"
      ]
     },
     "execution_count": 22,
     "metadata": {},
     "output_type": "execute_result"
    }
   ],
   "source": [
    "dfPeriod2[(dfPeriod2['to_box']==True) & (dfPeriod2['from_box']==False) & (dfPeriod2['type']==1)].groupby(['team_name']).agg({'outcome': np.mean,\n",
    "                                                                                                                      'count': np.sum})"
   ]
  },
  {
   "cell_type": "markdown",
   "metadata": {},
   "source": [
    "## 加时部分"
   ]
  },
  {
   "cell_type": "code",
   "execution_count": 23,
   "metadata": {},
   "outputs": [
    {
     "data": {
      "text/plain": [
       "<matplotlib.text.Text at 0x1106949d0>"
      ]
     },
     "execution_count": 23,
     "metadata": {},
     "output_type": "execute_result"
    },
    {
     "data": {
      "image/png": "[encoded data removed]",
      "text/plain": [
       "<matplotlib.figure.Figure at 0x1104d2690>"
      ]
     },
     "metadata": {},
     "output_type": "display_data"
    }
   ],
   "source": [
    "fig = plt.figure(figsize=(12,4))\n",
    "\n",
    "avg_x = (dfExtraTime[dfExtraTime['team_name']=='Germany'].groupby('min').apply(np.mean)['x'] - \n",
    "         dfExtraTime[dfExtraTime['team_name']=='Argentina'].groupby('min').apply(np.mean)['x'].reindex(dfExtraTime['min'].unique(), fill_value=0))\n",
    "\n",
    "plt.stackplot(list(avg_x.index.values), list([x if x>0 else 0 for x in avg_x]))\n",
    "plt.stackplot(list(avg_x.index.values), list([x if x<0 else 0 for x in avg_x]))\n",
    "\n",
    "for i, shot in dfETShots.iterrows():\n",
    "    x = shot['min']\n",
    "    y = avg_x.ix[shot['min']]\n",
    "    signal = 1 if shot['team_name']=='Germany' else -1\n",
    "    plt.annotate(s=(shot['type_name']+' ('+shot['team_name'][0]+\")\"), xy=(x, y), xytext=(x-5,y+20*signal), arrowprops=dict(facecolor='black'))\n",
    "\n",
    "plt.gca().set_xlabel('minute')\n",
    "plt.title(\"Extra Time Profile\")"
   ]
  },
  {
   "cell_type": "code",
   "execution_count": 24,
   "metadata": {},
   "outputs": [
    {
     "data": {
      "text/html": [
       "<div>\n",
       "<table border=\"1\" class=\"dataframe\">\n",
       "  <thead>\n",
       "    <tr style=\"text-align: right;\">\n",
       "      <th></th>\n",
       "      <th></th>\n",
       "      <th>count</th>\n",
       "      <th>x</th>\n",
       "      <th>on_offense</th>\n",
       "    </tr>\n",
       "    <tr>\n",
       "      <th>team_name</th>\n",
       "      <th>period</th>\n",
       "      <th></th>\n",
       "      <th></th>\n",
       "      <th></th>\n",
       "    </tr>\n",
       "  </thead>\n",
       "  <tbody>\n",
       "    <tr>\n",
       "      <th rowspan=\"4\" valign=\"top\">Argentina</th>\n",
       "      <th>1</th>\n",
       "      <td>434</td>\n",
       "      <td>38.320645</td>\n",
       "      <td>0.276498</td>\n",
       "    </tr>\n",
       "    <tr>\n",
       "      <th>2</th>\n",
       "      <td>640</td>\n",
       "      <td>48.916711</td>\n",
       "      <td>0.415625</td>\n",
       "    </tr>\n",
       "    <tr>\n",
       "      <th>3</th>\n",
       "      <td>105</td>\n",
       "      <td>46.100000</td>\n",
       "      <td>0.400000</td>\n",
       "    </tr>\n",
       "    <tr>\n",
       "      <th>4</th>\n",
       "      <td>152</td>\n",
       "      <td>46.255263</td>\n",
       "      <td>0.361842</td>\n",
       "    </tr>\n",
       "    <tr>\n",
       "      <th rowspan=\"4\" valign=\"top\">Germany</th>\n",
       "      <th>1</th>\n",
       "      <td>874</td>\n",
       "      <td>55.838736</td>\n",
       "      <td>0.610984</td>\n",
       "    </tr>\n",
       "    <tr>\n",
       "      <th>2</th>\n",
       "      <td>705</td>\n",
       "      <td>54.551298</td>\n",
       "      <td>0.598582</td>\n",
       "    </tr>\n",
       "    <tr>\n",
       "      <th>3</th>\n",
       "      <td>376</td>\n",
       "      <td>60.176729</td>\n",
       "      <td>0.659574</td>\n",
       "    </tr>\n",
       "    <tr>\n",
       "      <th>4</th>\n",
       "      <td>209</td>\n",
       "      <td>45.543876</td>\n",
       "      <td>0.392344</td>\n",
       "    </tr>\n",
       "  </tbody>\n",
       "</table>\n",
       "</div>"
      ],
      "text/plain": [
       "                  count          x  on_offense\n",
       "team_name period                              \n",
       "Argentina 1         434  38.320645    0.276498\n",
       "          2         640  48.916711    0.415625\n",
       "          3         105  46.100000    0.400000\n",
       "          4         152  46.255263    0.361842\n",
       "Germany   1         874  55.838736    0.610984\n",
       "          2         705  54.551298    0.598582\n",
       "          3         376  60.176729    0.659574\n",
       "          4         209  45.543876    0.392344"
      ]
     },
     "execution_count": 24,
     "metadata": {},
     "output_type": "execute_result"
    }
   ],
   "source": [
    "df.groupby(['team_name', 'period']).agg({'count': np.sum, 'x': np.mean, 'on_offense': np.mean})"
   ]
  },
  {
   "cell_type": "markdown",
   "metadata": {},
   "source": [
    "我们发现德国队的第4段和其余阶段很不同，德国队明显减少了传球次数，他们在试图控制比赛，把节奏放慢（有点拖延时间的味道？）。你可以看看在德国队的上一记射门之后的数据，更能体现这一点。"
   ]
  },
  {
   "cell_type": "code",
   "execution_count": 25,
   "metadata": {},
   "outputs": [
    {
     "data": {
      "text/html": [
       "<div>\n",
       "<table border=\"1\" class=\"dataframe\">\n",
       "  <thead>\n",
       "    <tr style=\"text-align: right;\">\n",
       "      <th></th>\n",
       "      <th></th>\n",
       "      <th>count</th>\n",
       "      <th>x</th>\n",
       "      <th>on_offense</th>\n",
       "    </tr>\n",
       "    <tr>\n",
       "      <th>team_name</th>\n",
       "      <th>period</th>\n",
       "      <th></th>\n",
       "      <th></th>\n",
       "      <th></th>\n",
       "    </tr>\n",
       "  </thead>\n",
       "  <tbody>\n",
       "    <tr>\n",
       "      <th>Argentina</th>\n",
       "      <th>4</th>\n",
       "      <td>90</td>\n",
       "      <td>52.444000</td>\n",
       "      <td>0.433333</td>\n",
       "    </tr>\n",
       "    <tr>\n",
       "      <th>Germany</th>\n",
       "      <th>4</th>\n",
       "      <td>64</td>\n",
       "      <td>35.009297</td>\n",
       "      <td>0.343750</td>\n",
       "    </tr>\n",
       "  </tbody>\n",
       "</table>\n",
       "</div>"
      ],
      "text/plain": [
       "                  count          x  on_offense\n",
       "team_name period                              \n",
       "Argentina 4          90  52.444000    0.433333\n",
       "Germany   4          64  35.009297    0.343750"
      ]
     },
     "execution_count": 25,
     "metadata": {},
     "output_type": "execute_result"
    }
   ],
   "source": [
    "goal_ix = df[df['type']==16].index[0]\n",
    "df_after_shot = df.ix[goal_ix+1:]\n",
    "df_after_shot.groupby(['team_name', 'period']).agg({'count': np.sum, 'x': np.mean, 'on_offense': np.mean})"
   ]
  },
  {
   "cell_type": "code",
   "execution_count": 26,
   "metadata": {},
   "outputs": [
    {
     "data": {
      "text/plain": [
       "<matplotlib.text.Text at 0x1108bdad0>"
      ]
     },
     "execution_count": 26,
     "metadata": {},
     "output_type": "execute_result"
    },
    {
     "data": {
      "image/png": "[encoded data removed]",
      "text/plain": [
       "<matplotlib.figure.Figure at 0x1104dfa90>"
      ]
     },
     "metadata": {},
     "output_type": "display_data"
    }
   ],
   "source": [
    "draw_pitch()\n",
    "draw_events(df_after_shot[(df_after_shot['to_box']==True) & (df_after_shot['type']==1) & (df_after_shot['from_box']==False) & (df_after_shot['outcome']==1)], mirror_away=True)\n",
    "draw_events(df_after_shot[(df_after_shot['to_box']==True) & (df_after_shot['type']==1) & (df_after_shot['from_box']==False) & (df_after_shot['outcome']==0)], mirror_away=True, alpha=0.2)\n",
    "draw_events(df_after_shot[df_after_shot['type'].isin([13,14,15,16])], mirror_away=True, base_color='#a93e3e')\n",
    "plt.text(x_size/4, -3, \"Germany's defense\", color='black', bbox=dict(facecolor='white', alpha=0.5), horizontalalignment='center')\n",
    "plt.text(x_size*3/4, -3, \"Argentina's defense\", color='black', bbox=dict(facecolor='white', alpha=0.5), horizontalalignment='center')"
   ]
  },
  {
   "cell_type": "code",
   "execution_count": 27,
   "metadata": {},
   "outputs": [
    {
     "data": {
      "text/html": [
       "<div>\n",
       "<table border=\"1\" class=\"dataframe\">\n",
       "  <thead>\n",
       "    <tr style=\"text-align: right;\">\n",
       "      <th></th>\n",
       "      <th>min</th>\n",
       "      <th>player_name</th>\n",
       "      <th>team_name</th>\n",
       "      <th>type_name</th>\n",
       "    </tr>\n",
       "  </thead>\n",
       "  <tbody>\n",
       "    <tr>\n",
       "      <th>3421</th>\n",
       "      <td>122</td>\n",
       "      <td>Lionel Messi</td>\n",
       "      <td>Argentina</td>\n",
       "      <td>SHOT OFF GOAL</td>\n",
       "    </tr>\n",
       "    <tr>\n",
       "      <th>3482</th>\n",
       "      <td>127</td>\n",
       "      <td>Lionel Messi</td>\n",
       "      <td>Argentina</td>\n",
       "      <td>SHOT OFF GOAL</td>\n",
       "    </tr>\n",
       "  </tbody>\n",
       "</table>\n",
       "</div>"
      ],
      "text/plain": [
       "      min   player_name  team_name      type_name\n",
       "3421  122  Lionel Messi  Argentina  SHOT OFF GOAL\n",
       "3482  127  Lionel Messi  Argentina  SHOT OFF GOAL"
      ]
     },
     "execution_count": 27,
     "metadata": {},
     "output_type": "execute_result"
    }
   ],
   "source": [
    "df_after_shot[df_after_shot['type'].isin([13,14,15,16])][['min', 'player_name', 'team_name', 'type_name']]"
   ]
  },
  {
   "cell_type": "markdown",
   "metadata": {},
   "source": [
    "德国队基本不打算继续射门了，只有一次是试图把球传入禁区的。但是他们的防守策略非常成功，以至于阿根廷基本很难进入他们的禁区。2记射门全都是禁区外射门的，而且都出自梅西之脚，然而梅西可能到这时候也深感绝望了。"
   ]
  },
  {
   "cell_type": "markdown",
   "metadata": {},
   "source": [
    "## 射门"
   ]
  },
  {
   "cell_type": "code",
   "execution_count": 28,
   "metadata": {},
   "outputs": [
    {
     "data": {
      "image/png": "[encoded data removed]",
      "text/plain": [
       "<matplotlib.figure.Figure at 0x1100e5a90>"
      ]
     },
     "metadata": {},
     "output_type": "display_data"
    }
   ],
   "source": [
    "goal = int(df[df['type']==16].index[0])\n",
    "dfGoal = df.ix[goal-30:goal]\n",
    "#goal = np.where(df.type==16)[0][0]\n",
    "#dfGoal = df.iloc[goal-30:goal+1]\n",
    "draw_pitch()\n",
    "draw_events(dfGoal[dfGoal.team_name=='Germany'], base_color='white')\n",
    "draw_events(dfGoal[dfGoal.team_name=='Argentina'], base_color='cyan')"
   ]
  },
  {
   "cell_type": "code",
   "execution_count": 29,
   "metadata": {},
   "outputs": [
    {
     "name": "stderr",
     "output_type": "stream",
     "text": [
      "/Library/Python/2.7/site-packages/ipykernel/__main__.py:3: SettingWithCopyWarning: \n",
      "A value is trying to be set on a copy of a slice from a DataFrame.\n",
      "Try using .loc[row_indexer,col_indexer] = value instead\n",
      "\n",
      "See the caveats in the documentation: http://pandas.pydata.org/pandas-docs/stable/indexing.html#indexing-view-versus-copy\n",
      "  app.launch_new_instance()\n"
     ]
    },
    {
     "data": {
      "text/html": [
       "<div>\n",
       "<table border=\"1\" class=\"dataframe\">\n",
       "  <thead>\n",
       "    <tr style=\"text-align: right;\">\n",
       "      <th></th>\n",
       "      <th>player_name</th>\n",
       "      <th>type_name</th>\n",
       "      <th>progression</th>\n",
       "    </tr>\n",
       "  </thead>\n",
       "  <tbody>\n",
       "    <tr>\n",
       "      <th>2</th>\n",
       "      <td>Philipp Lahm</td>\n",
       "      <td>PASS</td>\n",
       "      <td>1.995</td>\n",
       "    </tr>\n",
       "    <tr>\n",
       "      <th>4</th>\n",
       "      <td>Bastian Schweinsteiger</td>\n",
       "      <td>PASS</td>\n",
       "      <td>-1.365</td>\n",
       "    </tr>\n",
       "    <tr>\n",
       "      <th>8</th>\n",
       "      <td>Philipp Lahm</td>\n",
       "      <td>PASS</td>\n",
       "      <td>0.525</td>\n",
       "    </tr>\n",
       "    <tr>\n",
       "      <th>10</th>\n",
       "      <td>Bastian Schweinsteiger</td>\n",
       "      <td>RUN WITH BALL</td>\n",
       "      <td>0.315</td>\n",
       "    </tr>\n",
       "    <tr>\n",
       "      <th>11</th>\n",
       "      <td>Bastian Schweinsteiger</td>\n",
       "      <td>PASS</td>\n",
       "      <td>-12.180</td>\n",
       "    </tr>\n",
       "    <tr>\n",
       "      <th>12</th>\n",
       "      <td>Jerome Boateng</td>\n",
       "      <td>RUN WITH BALL</td>\n",
       "      <td>-0.735</td>\n",
       "    </tr>\n",
       "    <tr>\n",
       "      <th>14</th>\n",
       "      <td>Jerome Boateng</td>\n",
       "      <td>PASS</td>\n",
       "      <td>2.310</td>\n",
       "    </tr>\n",
       "    <tr>\n",
       "      <th>16</th>\n",
       "      <td>Mats Hummels</td>\n",
       "      <td>RUN WITH BALL</td>\n",
       "      <td>0.000</td>\n",
       "    </tr>\n",
       "    <tr>\n",
       "      <th>17</th>\n",
       "      <td>Mats Hummels</td>\n",
       "      <td>PASS</td>\n",
       "      <td>11.340</td>\n",
       "    </tr>\n",
       "    <tr>\n",
       "      <th>18</th>\n",
       "      <td>Toni Kroos</td>\n",
       "      <td>RUN WITH BALL</td>\n",
       "      <td>2.940</td>\n",
       "    </tr>\n",
       "    <tr>\n",
       "      <th>20</th>\n",
       "      <td>Toni Kroos</td>\n",
       "      <td>PASS</td>\n",
       "      <td>25.410</td>\n",
       "    </tr>\n",
       "    <tr>\n",
       "      <th>22</th>\n",
       "      <td>André Schürrle</td>\n",
       "      <td>RUN WITH BALL</td>\n",
       "      <td>0.105</td>\n",
       "    </tr>\n",
       "    <tr>\n",
       "      <th>23</th>\n",
       "      <td>André Schürrle</td>\n",
       "      <td>PASS</td>\n",
       "      <td>-11.760</td>\n",
       "    </tr>\n",
       "    <tr>\n",
       "      <th>25</th>\n",
       "      <td>Toni Kroos</td>\n",
       "      <td>PASS</td>\n",
       "      <td>9.555</td>\n",
       "    </tr>\n",
       "    <tr>\n",
       "      <th>27</th>\n",
       "      <td>André Schürrle</td>\n",
       "      <td>RUN WITH BALL</td>\n",
       "      <td>24.675</td>\n",
       "    </tr>\n",
       "    <tr>\n",
       "      <th>28</th>\n",
       "      <td>André Schürrle</td>\n",
       "      <td>PASS</td>\n",
       "      <td>5.460</td>\n",
       "    </tr>\n",
       "    <tr>\n",
       "      <th>30</th>\n",
       "      <td>Fernando Gago</td>\n",
       "      <td>RUN WITH BALL</td>\n",
       "      <td>1.995</td>\n",
       "    </tr>\n",
       "    <tr>\n",
       "      <th>31</th>\n",
       "      <td>Fernando Gago</td>\n",
       "      <td>GOAL</td>\n",
       "      <td>3.780</td>\n",
       "    </tr>\n",
       "  </tbody>\n",
       "</table>\n",
       "</div>"
      ],
      "text/plain": [
       "               player_name      type_name  progression\n",
       "2             Philipp Lahm           PASS        1.995\n",
       "4   Bastian Schweinsteiger           PASS       -1.365\n",
       "8             Philipp Lahm           PASS        0.525\n",
       "10  Bastian Schweinsteiger  RUN WITH BALL        0.315\n",
       "11  Bastian Schweinsteiger           PASS      -12.180\n",
       "12          Jerome Boateng  RUN WITH BALL       -0.735\n",
       "14          Jerome Boateng           PASS        2.310\n",
       "16            Mats Hummels  RUN WITH BALL        0.000\n",
       "17            Mats Hummels           PASS       11.340\n",
       "18              Toni Kroos  RUN WITH BALL        2.940\n",
       "20              Toni Kroos           PASS       25.410\n",
       "22          André Schürrle  RUN WITH BALL        0.105\n",
       "23          André Schürrle           PASS      -11.760\n",
       "25              Toni Kroos           PASS        9.555\n",
       "27          André Schürrle  RUN WITH BALL       24.675\n",
       "28          André Schürrle           PASS        5.460\n",
       "30           Fernando Gago  RUN WITH BALL        1.995\n",
       "31           Fernando Gago           GOAL        3.780"
      ]
     },
     "execution_count": 29,
     "metadata": {},
     "output_type": "execute_result"
    }
   ],
   "source": [
    "#Germany's players involved in the play\n",
    "dfGoal['progression']=dfGoal['to_x']-dfGoal['x']\n",
    "dfGoal[dfGoal['type'].isin([1, 101, 16])][['player_name', 'type_name', 'progression']]"
   ]
  },
  {
   "cell_type": "markdown",
   "metadata": {},
   "source": [
    "## 一些基础数据"
   ]
  },
  {
   "cell_type": "code",
   "execution_count": 30,
   "metadata": {},
   "outputs": [
    {
     "name": "stderr",
     "output_type": "stream",
     "text": [
      "/Library/Python/2.7/site-packages/ipykernel/__main__.py:2: FutureWarning: sort(columns=....) is deprecated, use sort_values(by=.....)\n",
      "  from ipykernel import kernelapp as app\n"
     ]
    },
    {
     "data": {
      "text/html": [
       "<div>\n",
       "<table border=\"1\" class=\"dataframe\">\n",
       "  <thead>\n",
       "    <tr style=\"text-align: right;\">\n",
       "      <th></th>\n",
       "      <th></th>\n",
       "      <th>count</th>\n",
       "      <th>outcome</th>\n",
       "    </tr>\n",
       "    <tr>\n",
       "      <th>player_name</th>\n",
       "      <th>team_name</th>\n",
       "      <th></th>\n",
       "      <th></th>\n",
       "    </tr>\n",
       "  </thead>\n",
       "  <tbody>\n",
       "    <tr>\n",
       "      <th>Philipp Lahm</th>\n",
       "      <th>Germany</th>\n",
       "      <td>296</td>\n",
       "      <td>0.925676</td>\n",
       "    </tr>\n",
       "    <tr>\n",
       "      <th>Toni Kroos</th>\n",
       "      <th>Germany</th>\n",
       "      <td>287</td>\n",
       "      <td>0.885017</td>\n",
       "    </tr>\n",
       "    <tr>\n",
       "      <th>Bastian Schweinsteiger</th>\n",
       "      <th>Germany</th>\n",
       "      <td>271</td>\n",
       "      <td>0.926199</td>\n",
       "    </tr>\n",
       "    <tr>\n",
       "      <th>Jerome Boateng</th>\n",
       "      <th>Germany</th>\n",
       "      <td>211</td>\n",
       "      <td>0.909953</td>\n",
       "    </tr>\n",
       "    <tr>\n",
       "      <th>Mesut Özil</th>\n",
       "      <th>Germany</th>\n",
       "      <td>196</td>\n",
       "      <td>0.867347</td>\n",
       "    </tr>\n",
       "    <tr>\n",
       "      <th>Javier Mascherano</th>\n",
       "      <th>Argentina</th>\n",
       "      <td>173</td>\n",
       "      <td>0.878613</td>\n",
       "    </tr>\n",
       "    <tr>\n",
       "      <th>André Schürrle</th>\n",
       "      <th>Germany</th>\n",
       "      <td>172</td>\n",
       "      <td>0.825581</td>\n",
       "    </tr>\n",
       "    <tr>\n",
       "      <th>Benedikt Höwedes</th>\n",
       "      <th>Germany</th>\n",
       "      <td>167</td>\n",
       "      <td>0.856287</td>\n",
       "    </tr>\n",
       "    <tr>\n",
       "      <th>Mats Hummels</th>\n",
       "      <th>Germany</th>\n",
       "      <td>165</td>\n",
       "      <td>0.909091</td>\n",
       "    </tr>\n",
       "    <tr>\n",
       "      <th>Thomas Müller</th>\n",
       "      <th>Germany</th>\n",
       "      <td>155</td>\n",
       "      <td>0.812903</td>\n",
       "    </tr>\n",
       "    <tr>\n",
       "      <th>Lucas Biglia</th>\n",
       "      <th>Argentina</th>\n",
       "      <td>136</td>\n",
       "      <td>0.860294</td>\n",
       "    </tr>\n",
       "    <tr>\n",
       "      <th>Ezequiel Garay</th>\n",
       "      <th>Argentina</th>\n",
       "      <td>131</td>\n",
       "      <td>0.893130</td>\n",
       "    </tr>\n",
       "    <tr>\n",
       "      <th>Martín Demichelis</th>\n",
       "      <th>Argentina</th>\n",
       "      <td>126</td>\n",
       "      <td>0.888889</td>\n",
       "    </tr>\n",
       "    <tr>\n",
       "      <th>Lionel Messi</th>\n",
       "      <th>Argentina</th>\n",
       "      <td>122</td>\n",
       "      <td>0.770492</td>\n",
       "    </tr>\n",
       "    <tr>\n",
       "      <th>Pablo Zabaleta</th>\n",
       "      <th>Argentina</th>\n",
       "      <td>122</td>\n",
       "      <td>0.786885</td>\n",
       "    </tr>\n",
       "    <tr>\n",
       "      <th>Marcos Rojo</th>\n",
       "      <th>Argentina</th>\n",
       "      <td>119</td>\n",
       "      <td>0.798319</td>\n",
       "    </tr>\n",
       "    <tr>\n",
       "      <th>Manuel Neuer</th>\n",
       "      <th>Germany</th>\n",
       "      <td>98</td>\n",
       "      <td>0.897959</td>\n",
       "    </tr>\n",
       "    <tr>\n",
       "      <th>Enzo Pérez</th>\n",
       "      <th>Argentina</th>\n",
       "      <td>89</td>\n",
       "      <td>0.876404</td>\n",
       "    </tr>\n",
       "    <tr>\n",
       "      <th>Sergio Agüero</th>\n",
       "      <th>Argentina</th>\n",
       "      <td>69</td>\n",
       "      <td>0.681159</td>\n",
       "    </tr>\n",
       "    <tr>\n",
       "      <th>Sergio Romero</th>\n",
       "      <th>Argentina</th>\n",
       "      <td>69</td>\n",
       "      <td>0.753623</td>\n",
       "    </tr>\n",
       "    <tr>\n",
       "      <th>Miroslav Klose</th>\n",
       "      <th>Germany</th>\n",
       "      <td>58</td>\n",
       "      <td>0.724138</td>\n",
       "    </tr>\n",
       "    <tr>\n",
       "      <th>Mario Götze</th>\n",
       "      <th>Argentina</th>\n",
       "      <td>57</td>\n",
       "      <td>0.859649</td>\n",
       "    </tr>\n",
       "    <tr>\n",
       "      <th>Fernando Gago</th>\n",
       "      <th>Germany</th>\n",
       "      <td>57</td>\n",
       "      <td>0.894737</td>\n",
       "    </tr>\n",
       "    <tr>\n",
       "      <th>Gonzalo Higuaín</th>\n",
       "      <th>Argentina</th>\n",
       "      <td>53</td>\n",
       "      <td>0.792453</td>\n",
       "    </tr>\n",
       "    <tr>\n",
       "      <th>Ezequiel Lavezzi</th>\n",
       "      <th>Argentina</th>\n",
       "      <td>34</td>\n",
       "      <td>0.764706</td>\n",
       "    </tr>\n",
       "    <tr>\n",
       "      <th>Rodrigo Palacio</th>\n",
       "      <th>Argentina</th>\n",
       "      <td>31</td>\n",
       "      <td>0.612903</td>\n",
       "    </tr>\n",
       "    <tr>\n",
       "      <th>Christoph Kramer</th>\n",
       "      <th>Germany</th>\n",
       "      <td>27</td>\n",
       "      <td>0.888889</td>\n",
       "    </tr>\n",
       "    <tr>\n",
       "      <th>Per Mertesacker</th>\n",
       "      <th>Germany</th>\n",
       "      <td>4</td>\n",
       "      <td>1.000000</td>\n",
       "    </tr>\n",
       "  </tbody>\n",
       "</table>\n",
       "</div>"
      ],
      "text/plain": [
       "                                  count   outcome\n",
       "player_name            team_name                 \n",
       "Philipp Lahm           Germany      296  0.925676\n",
       "Toni Kroos             Germany      287  0.885017\n",
       "Bastian Schweinsteiger Germany      271  0.926199\n",
       "Jerome Boateng         Germany      211  0.909953\n",
       "Mesut Özil             Germany      196  0.867347\n",
       "Javier Mascherano      Argentina    173  0.878613\n",
       "André Schürrle         Germany      172  0.825581\n",
       "Benedikt Höwedes       Germany      167  0.856287\n",
       "Mats Hummels           Germany      165  0.909091\n",
       "Thomas Müller          Germany      155  0.812903\n",
       "Lucas Biglia           Argentina    136  0.860294\n",
       "Ezequiel Garay         Argentina    131  0.893130\n",
       "Martín Demichelis      Argentina    126  0.888889\n",
       "Lionel Messi           Argentina    122  0.770492\n",
       "Pablo Zabaleta         Argentina    122  0.786885\n",
       "Marcos Rojo            Argentina    119  0.798319\n",
       "Manuel Neuer           Germany       98  0.897959\n",
       "Enzo Pérez             Argentina     89  0.876404\n",
       "Sergio Agüero          Argentina     69  0.681159\n",
       "Sergio Romero          Argentina     69  0.753623\n",
       "Miroslav Klose         Germany       58  0.724138\n",
       "Mario Götze            Argentina     57  0.859649\n",
       "Fernando Gago          Germany       57  0.894737\n",
       "Gonzalo Higuaín        Argentina     53  0.792453\n",
       "Ezequiel Lavezzi       Argentina     34  0.764706\n",
       "Rodrigo Palacio        Argentina     31  0.612903\n",
       "Christoph Kramer       Germany       27  0.888889\n",
       "Per Mertesacker        Germany        4  1.000000"
      ]
     },
     "execution_count": 30,
     "metadata": {},
     "output_type": "execute_result"
    }
   ],
   "source": [
    "#passing accuracy\n",
    "df.groupby(['player_name', 'team_name']).agg({'count': np.sum, 'outcome': np.mean}).sort('count', ascending=False)"
   ]
  },
  {
   "cell_type": "code",
   "execution_count": 32,
   "metadata": {},
   "outputs": [
    {
     "name": "stderr",
     "output_type": "stream",
     "text": [
      "/Library/Python/2.7/site-packages/ipykernel/__main__.py:8: FutureWarning: sort(columns=....) is deprecated, use sort_values(by=.....)\n"
     ]
    },
    {
     "data": {
      "text/html": [
       "<div>\n",
       "<table border=\"1\" class=\"dataframe\">\n",
       "  <thead>\n",
       "    <tr style=\"text-align: right;\">\n",
       "      <th></th>\n",
       "      <th>type_name</th>\n",
       "      <th>GOAL</th>\n",
       "      <th>SHOT HIT POST</th>\n",
       "      <th>SHOT OFF GOAL</th>\n",
       "      <th>SHOT ON GOAL</th>\n",
       "      <th>All</th>\n",
       "    </tr>\n",
       "    <tr>\n",
       "      <th>player_name</th>\n",
       "      <th>team_name</th>\n",
       "      <th></th>\n",
       "      <th></th>\n",
       "      <th></th>\n",
       "      <th></th>\n",
       "      <th></th>\n",
       "    </tr>\n",
       "  </thead>\n",
       "  <tbody>\n",
       "    <tr>\n",
       "      <th>All</th>\n",
       "      <th></th>\n",
       "      <td>1.0</td>\n",
       "      <td>1.0</td>\n",
       "      <td>11.0</td>\n",
       "      <td>7.0</td>\n",
       "      <td>20.0</td>\n",
       "    </tr>\n",
       "    <tr>\n",
       "      <th>Lionel Messi</th>\n",
       "      <th>Argentina</th>\n",
       "      <td>0.0</td>\n",
       "      <td>0.0</td>\n",
       "      <td>4.0</td>\n",
       "      <td>0.0</td>\n",
       "      <td>4.0</td>\n",
       "    </tr>\n",
       "    <tr>\n",
       "      <th>Toni Kroos</th>\n",
       "      <th>Germany</th>\n",
       "      <td>0.0</td>\n",
       "      <td>0.0</td>\n",
       "      <td>1.0</td>\n",
       "      <td>2.0</td>\n",
       "      <td>3.0</td>\n",
       "    </tr>\n",
       "    <tr>\n",
       "      <th>André Schürrle</th>\n",
       "      <th>Germany</th>\n",
       "      <td>0.0</td>\n",
       "      <td>0.0</td>\n",
       "      <td>1.0</td>\n",
       "      <td>1.0</td>\n",
       "      <td>2.0</td>\n",
       "    </tr>\n",
       "    <tr>\n",
       "      <th>Fernando Gago</th>\n",
       "      <th>Germany</th>\n",
       "      <td>1.0</td>\n",
       "      <td>0.0</td>\n",
       "      <td>0.0</td>\n",
       "      <td>1.0</td>\n",
       "      <td>2.0</td>\n",
       "    </tr>\n",
       "    <tr>\n",
       "      <th>Gonzalo Higuaín</th>\n",
       "      <th>Argentina</th>\n",
       "      <td>0.0</td>\n",
       "      <td>0.0</td>\n",
       "      <td>2.0</td>\n",
       "      <td>0.0</td>\n",
       "      <td>2.0</td>\n",
       "    </tr>\n",
       "    <tr>\n",
       "      <th>Sergio Romero</th>\n",
       "      <th>Argentina</th>\n",
       "      <td>0.0</td>\n",
       "      <td>0.0</td>\n",
       "      <td>2.0</td>\n",
       "      <td>0.0</td>\n",
       "      <td>2.0</td>\n",
       "    </tr>\n",
       "    <tr>\n",
       "      <th>Benedikt Höwedes</th>\n",
       "      <th>Germany</th>\n",
       "      <td>0.0</td>\n",
       "      <td>1.0</td>\n",
       "      <td>0.0</td>\n",
       "      <td>0.0</td>\n",
       "      <td>1.0</td>\n",
       "    </tr>\n",
       "    <tr>\n",
       "      <th>Lucas Biglia</th>\n",
       "      <th>Argentina</th>\n",
       "      <td>0.0</td>\n",
       "      <td>0.0</td>\n",
       "      <td>0.0</td>\n",
       "      <td>1.0</td>\n",
       "      <td>1.0</td>\n",
       "    </tr>\n",
       "    <tr>\n",
       "      <th>Mesut Özil</th>\n",
       "      <th>Germany</th>\n",
       "      <td>0.0</td>\n",
       "      <td>0.0</td>\n",
       "      <td>0.0</td>\n",
       "      <td>1.0</td>\n",
       "      <td>1.0</td>\n",
       "    </tr>\n",
       "    <tr>\n",
       "      <th>Miroslav Klose</th>\n",
       "      <th>Germany</th>\n",
       "      <td>0.0</td>\n",
       "      <td>0.0</td>\n",
       "      <td>0.0</td>\n",
       "      <td>1.0</td>\n",
       "      <td>1.0</td>\n",
       "    </tr>\n",
       "    <tr>\n",
       "      <th>Rodrigo Palacio</th>\n",
       "      <th>Argentina</th>\n",
       "      <td>0.0</td>\n",
       "      <td>0.0</td>\n",
       "      <td>1.0</td>\n",
       "      <td>0.0</td>\n",
       "      <td>1.0</td>\n",
       "    </tr>\n",
       "  </tbody>\n",
       "</table>\n",
       "</div>"
      ],
      "text/plain": [
       "type_name                   GOAL  SHOT HIT POST  SHOT OFF GOAL  SHOT ON GOAL  \\\n",
       "player_name      team_name                                                     \n",
       "All                          1.0            1.0           11.0           7.0   \n",
       "Lionel Messi     Argentina   0.0            0.0            4.0           0.0   \n",
       "Toni Kroos       Germany     0.0            0.0            1.0           2.0   \n",
       "André Schürrle   Germany     0.0            0.0            1.0           1.0   \n",
       "Fernando Gago    Germany     1.0            0.0            0.0           1.0   \n",
       "Gonzalo Higuaín  Argentina   0.0            0.0            2.0           0.0   \n",
       "Sergio Romero    Argentina   0.0            0.0            2.0           0.0   \n",
       "Benedikt Höwedes Germany     0.0            1.0            0.0           0.0   \n",
       "Lucas Biglia     Argentina   0.0            0.0            0.0           1.0   \n",
       "Mesut Özil       Germany     0.0            0.0            0.0           1.0   \n",
       "Miroslav Klose   Germany     0.0            0.0            0.0           1.0   \n",
       "Rodrigo Palacio  Argentina   0.0            0.0            1.0           0.0   \n",
       "\n",
       "type_name                    All  \n",
       "player_name      team_name        \n",
       "All                         20.0  \n",
       "Lionel Messi     Argentina   4.0  \n",
       "Toni Kroos       Germany     3.0  \n",
       "André Schürrle   Germany     2.0  \n",
       "Fernando Gago    Germany     2.0  \n",
       "Gonzalo Higuaín  Argentina   2.0  \n",
       "Sergio Romero    Argentina   2.0  \n",
       "Benedikt Höwedes Germany     1.0  \n",
       "Lucas Biglia     Argentina   1.0  \n",
       "Mesut Özil       Germany     1.0  \n",
       "Miroslav Klose   Germany     1.0  \n",
       "Rodrigo Palacio  Argentina   1.0  "
      ]
     },
     "execution_count": 32,
     "metadata": {},
     "output_type": "execute_result"
    }
   ],
   "source": [
    "#shots\n",
    "pd.pivot_table(df[df['type'].isin([13,14,15,16])],\n",
    "               values='count',\n",
    "               aggfunc=sum,\n",
    "               index=['player_name', 'team_name'], \n",
    "               columns='type_name',\n",
    "               fill_value=0,\n",
    "               margins=True).sort('All', ascending=False)"
   ]
  },
  {
   "cell_type": "code",
   "execution_count": 33,
   "metadata": {},
   "outputs": [
    {
     "name": "stderr",
     "output_type": "stream",
     "text": [
      "/Library/Python/2.7/site-packages/ipykernel/__main__.py:8: FutureWarning: sort(columns=....) is deprecated, use sort_values(by=.....)\n"
     ]
    },
    {
     "data": {
      "text/html": [
       "<div>\n",
       "<table border=\"1\" class=\"dataframe\">\n",
       "  <thead>\n",
       "    <tr style=\"text-align: right;\">\n",
       "      <th></th>\n",
       "      <th>type_name</th>\n",
       "      <th>INTERCEPTION</th>\n",
       "      <th>TACKLE</th>\n",
       "      <th>WON CONTROL OF BALL</th>\n",
       "      <th>All</th>\n",
       "    </tr>\n",
       "    <tr>\n",
       "      <th>player_name</th>\n",
       "      <th>team_name</th>\n",
       "      <th></th>\n",
       "      <th></th>\n",
       "      <th></th>\n",
       "      <th></th>\n",
       "    </tr>\n",
       "  </thead>\n",
       "  <tbody>\n",
       "    <tr>\n",
       "      <th>All</th>\n",
       "      <th></th>\n",
       "      <td>35.0</td>\n",
       "      <td>51.0</td>\n",
       "      <td>109.0</td>\n",
       "      <td>195.0</td>\n",
       "    </tr>\n",
       "    <tr>\n",
       "      <th>Toni Kroos</th>\n",
       "      <th>Germany</th>\n",
       "      <td>2.0</td>\n",
       "      <td>3.0</td>\n",
       "      <td>11.0</td>\n",
       "      <td>16.0</td>\n",
       "    </tr>\n",
       "    <tr>\n",
       "      <th>Martín Demichelis</th>\n",
       "      <th>Argentina</th>\n",
       "      <td>5.0</td>\n",
       "      <td>2.0</td>\n",
       "      <td>9.0</td>\n",
       "      <td>16.0</td>\n",
       "    </tr>\n",
       "    <tr>\n",
       "      <th>Mats Hummels</th>\n",
       "      <th>Germany</th>\n",
       "      <td>3.0</td>\n",
       "      <td>6.0</td>\n",
       "      <td>6.0</td>\n",
       "      <td>15.0</td>\n",
       "    </tr>\n",
       "    <tr>\n",
       "      <th>Bastian Schweinsteiger</th>\n",
       "      <th>Germany</th>\n",
       "      <td>0.0</td>\n",
       "      <td>4.0</td>\n",
       "      <td>11.0</td>\n",
       "      <td>15.0</td>\n",
       "    </tr>\n",
       "    <tr>\n",
       "      <th>Jerome Boateng</th>\n",
       "      <th>Germany</th>\n",
       "      <td>3.0</td>\n",
       "      <td>6.0</td>\n",
       "      <td>5.0</td>\n",
       "      <td>14.0</td>\n",
       "    </tr>\n",
       "    <tr>\n",
       "      <th>Pablo Zabaleta</th>\n",
       "      <th>Argentina</th>\n",
       "      <td>1.0</td>\n",
       "      <td>8.0</td>\n",
       "      <td>4.0</td>\n",
       "      <td>13.0</td>\n",
       "    </tr>\n",
       "    <tr>\n",
       "      <th>Enzo Pérez</th>\n",
       "      <th>Argentina</th>\n",
       "      <td>2.0</td>\n",
       "      <td>1.0</td>\n",
       "      <td>7.0</td>\n",
       "      <td>10.0</td>\n",
       "    </tr>\n",
       "    <tr>\n",
       "      <th>Javier Mascherano</th>\n",
       "      <th>Argentina</th>\n",
       "      <td>3.0</td>\n",
       "      <td>2.0</td>\n",
       "      <td>5.0</td>\n",
       "      <td>10.0</td>\n",
       "    </tr>\n",
       "    <tr>\n",
       "      <th>Philipp Lahm</th>\n",
       "      <th>Germany</th>\n",
       "      <td>2.0</td>\n",
       "      <td>0.0</td>\n",
       "      <td>7.0</td>\n",
       "      <td>9.0</td>\n",
       "    </tr>\n",
       "    <tr>\n",
       "      <th>Marcos Rojo</th>\n",
       "      <th>Argentina</th>\n",
       "      <td>3.0</td>\n",
       "      <td>3.0</td>\n",
       "      <td>3.0</td>\n",
       "      <td>9.0</td>\n",
       "    </tr>\n",
       "    <tr>\n",
       "      <th>Miroslav Klose</th>\n",
       "      <th>Germany</th>\n",
       "      <td>2.0</td>\n",
       "      <td>3.0</td>\n",
       "      <td>3.0</td>\n",
       "      <td>8.0</td>\n",
       "    </tr>\n",
       "    <tr>\n",
       "      <th>Thomas Müller</th>\n",
       "      <th>Germany</th>\n",
       "      <td>2.0</td>\n",
       "      <td>1.0</td>\n",
       "      <td>5.0</td>\n",
       "      <td>8.0</td>\n",
       "    </tr>\n",
       "    <tr>\n",
       "      <th>Ezequiel Garay</th>\n",
       "      <th>Argentina</th>\n",
       "      <td>3.0</td>\n",
       "      <td>2.0</td>\n",
       "      <td>3.0</td>\n",
       "      <td>8.0</td>\n",
       "    </tr>\n",
       "    <tr>\n",
       "      <th>Benedikt Höwedes</th>\n",
       "      <th>Germany</th>\n",
       "      <td>1.0</td>\n",
       "      <td>2.0</td>\n",
       "      <td>4.0</td>\n",
       "      <td>7.0</td>\n",
       "    </tr>\n",
       "    <tr>\n",
       "      <th>Lucas Biglia</th>\n",
       "      <th>Argentina</th>\n",
       "      <td>2.0</td>\n",
       "      <td>0.0</td>\n",
       "      <td>3.0</td>\n",
       "      <td>5.0</td>\n",
       "    </tr>\n",
       "    <tr>\n",
       "      <th>André Schürrle</th>\n",
       "      <th>Germany</th>\n",
       "      <td>0.0</td>\n",
       "      <td>3.0</td>\n",
       "      <td>2.0</td>\n",
       "      <td>5.0</td>\n",
       "    </tr>\n",
       "    <tr>\n",
       "      <th>Mesut Özil</th>\n",
       "      <th>Germany</th>\n",
       "      <td>0.0</td>\n",
       "      <td>1.0</td>\n",
       "      <td>3.0</td>\n",
       "      <td>4.0</td>\n",
       "    </tr>\n",
       "    <tr>\n",
       "      <th>Gonzalo Higuaín</th>\n",
       "      <th>Argentina</th>\n",
       "      <td>0.0</td>\n",
       "      <td>0.0</td>\n",
       "      <td>4.0</td>\n",
       "      <td>4.0</td>\n",
       "    </tr>\n",
       "    <tr>\n",
       "      <th>Ezequiel Lavezzi</th>\n",
       "      <th>Argentina</th>\n",
       "      <td>0.0</td>\n",
       "      <td>1.0</td>\n",
       "      <td>2.0</td>\n",
       "      <td>3.0</td>\n",
       "    </tr>\n",
       "    <tr>\n",
       "      <th>Sergio Agüero</th>\n",
       "      <th>Argentina</th>\n",
       "      <td>0.0</td>\n",
       "      <td>0.0</td>\n",
       "      <td>3.0</td>\n",
       "      <td>3.0</td>\n",
       "    </tr>\n",
       "    <tr>\n",
       "      <th>Sergio Romero</th>\n",
       "      <th>Argentina</th>\n",
       "      <td>1.0</td>\n",
       "      <td>1.0</td>\n",
       "      <td>1.0</td>\n",
       "      <td>3.0</td>\n",
       "    </tr>\n",
       "    <tr>\n",
       "      <th>Lionel Messi</th>\n",
       "      <th>Argentina</th>\n",
       "      <td>0.0</td>\n",
       "      <td>1.0</td>\n",
       "      <td>2.0</td>\n",
       "      <td>3.0</td>\n",
       "    </tr>\n",
       "    <tr>\n",
       "      <th>Mario Götze</th>\n",
       "      <th>Argentina</th>\n",
       "      <td>0.0</td>\n",
       "      <td>0.0</td>\n",
       "      <td>2.0</td>\n",
       "      <td>2.0</td>\n",
       "    </tr>\n",
       "    <tr>\n",
       "      <th>Rodrigo Palacio</th>\n",
       "      <th>Argentina</th>\n",
       "      <td>0.0</td>\n",
       "      <td>0.0</td>\n",
       "      <td>2.0</td>\n",
       "      <td>2.0</td>\n",
       "    </tr>\n",
       "    <tr>\n",
       "      <th>Fernando Gago</th>\n",
       "      <th>Germany</th>\n",
       "      <td>0.0</td>\n",
       "      <td>0.0</td>\n",
       "      <td>1.0</td>\n",
       "      <td>1.0</td>\n",
       "    </tr>\n",
       "    <tr>\n",
       "      <th>Christoph Kramer</th>\n",
       "      <th>Germany</th>\n",
       "      <td>0.0</td>\n",
       "      <td>1.0</td>\n",
       "      <td>0.0</td>\n",
       "      <td>1.0</td>\n",
       "    </tr>\n",
       "    <tr>\n",
       "      <th>Manuel Neuer</th>\n",
       "      <th>Germany</th>\n",
       "      <td>0.0</td>\n",
       "      <td>0.0</td>\n",
       "      <td>1.0</td>\n",
       "      <td>1.0</td>\n",
       "    </tr>\n",
       "  </tbody>\n",
       "</table>\n",
       "</div>"
      ],
      "text/plain": [
       "type_name                         INTERCEPTION  TACKLE  WON CONTROL OF BALL  \\\n",
       "player_name            team_name                                              \n",
       "All                                       35.0    51.0                109.0   \n",
       "Toni Kroos             Germany             2.0     3.0                 11.0   \n",
       "Martín Demichelis      Argentina           5.0     2.0                  9.0   \n",
       "Mats Hummels           Germany             3.0     6.0                  6.0   \n",
       "Bastian Schweinsteiger Germany             0.0     4.0                 11.0   \n",
       "Jerome Boateng         Germany             3.0     6.0                  5.0   \n",
       "Pablo Zabaleta         Argentina           1.0     8.0                  4.0   \n",
       "Enzo Pérez             Argentina           2.0     1.0                  7.0   \n",
       "Javier Mascherano      Argentina           3.0     2.0                  5.0   \n",
       "Philipp Lahm           Germany             2.0     0.0                  7.0   \n",
       "Marcos Rojo            Argentina           3.0     3.0                  3.0   \n",
       "Miroslav Klose         Germany             2.0     3.0                  3.0   \n",
       "Thomas Müller          Germany             2.0     1.0                  5.0   \n",
       "Ezequiel Garay         Argentina           3.0     2.0                  3.0   \n",
       "Benedikt Höwedes       Germany             1.0     2.0                  4.0   \n",
       "Lucas Biglia           Argentina           2.0     0.0                  3.0   \n",
       "André Schürrle         Germany             0.0     3.0                  2.0   \n",
       "Mesut Özil             Germany             0.0     1.0                  3.0   \n",
       "Gonzalo Higuaín        Argentina           0.0     0.0                  4.0   \n",
       "Ezequiel Lavezzi       Argentina           0.0     1.0                  2.0   \n",
       "Sergio Agüero          Argentina           0.0     0.0                  3.0   \n",
       "Sergio Romero          Argentina           1.0     1.0                  1.0   \n",
       "Lionel Messi           Argentina           0.0     1.0                  2.0   \n",
       "Mario Götze            Argentina           0.0     0.0                  2.0   \n",
       "Rodrigo Palacio        Argentina           0.0     0.0                  2.0   \n",
       "Fernando Gago          Germany             0.0     0.0                  1.0   \n",
       "Christoph Kramer       Germany             0.0     1.0                  0.0   \n",
       "Manuel Neuer           Germany             0.0     0.0                  1.0   \n",
       "\n",
       "type_name                           All  \n",
       "player_name            team_name         \n",
       "All                               195.0  \n",
       "Toni Kroos             Germany     16.0  \n",
       "Martín Demichelis      Argentina   16.0  \n",
       "Mats Hummels           Germany     15.0  \n",
       "Bastian Schweinsteiger Germany     15.0  \n",
       "Jerome Boateng         Germany     14.0  \n",
       "Pablo Zabaleta         Argentina   13.0  \n",
       "Enzo Pérez             Argentina   10.0  \n",
       "Javier Mascherano      Argentina   10.0  \n",
       "Philipp Lahm           Germany      9.0  \n",
       "Marcos Rojo            Argentina    9.0  \n",
       "Miroslav Klose         Germany      8.0  \n",
       "Thomas Müller          Germany      8.0  \n",
       "Ezequiel Garay         Argentina    8.0  \n",
       "Benedikt Höwedes       Germany      7.0  \n",
       "Lucas Biglia           Argentina    5.0  \n",
       "André Schürrle         Germany      5.0  \n",
       "Mesut Özil             Germany      4.0  \n",
       "Gonzalo Higuaín        Argentina    4.0  \n",
       "Ezequiel Lavezzi       Argentina    3.0  \n",
       "Sergio Agüero          Argentina    3.0  \n",
       "Sergio Romero          Argentina    3.0  \n",
       "Lionel Messi           Argentina    3.0  \n",
       "Mario Götze            Argentina    2.0  \n",
       "Rodrigo Palacio        Argentina    2.0  \n",
       "Fernando Gago          Germany      1.0  \n",
       "Christoph Kramer       Germany      1.0  \n",
       "Manuel Neuer           Germany      1.0  "
      ]
     },
     "execution_count": 33,
     "metadata": {},
     "output_type": "execute_result"
    }
   ],
   "source": [
    "#defensive play\n",
    "pd.pivot_table(df[df['type'].isin([7, 8, 49])],\n",
    "               values='count',\n",
    "               aggfunc=np.sum,\n",
    "               index=['player_name', 'team_name'], \n",
    "               columns='type_name',\n",
    "               fill_value=0,\n",
    "               margins=True).sort('All', ascending=False)"
   ]
  }
 ],
 "metadata": {
  "kernelspec": {
   "display_name": "Python 2",
   "language": "python",
   "name": "python2"
  },
  "language_info": {
   "codemirror_mode": {
    "name": "ipython",
    "version": 2
   },
   "file_extension": ".py",
   "mimetype": "text/x-python",
   "name": "python",
   "nbconvert_exporter": "python",
   "pygments_lexer": "ipython2",
   "version": "2.7.12"
  }
 },
 "nbformat": 4,
 "nbformat_minor": 1
}
